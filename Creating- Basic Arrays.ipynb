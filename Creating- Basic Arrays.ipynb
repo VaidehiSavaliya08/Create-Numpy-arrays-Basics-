{
 "cells": [
  {
   "cell_type": "code",
   "execution_count": 1,
   "id": "58ad7db9",
   "metadata": {},
   "outputs": [],
   "source": [
    "import numpy as np"
   ]
  },
  {
   "cell_type": "markdown",
   "id": "419a1e0a",
   "metadata": {},
   "source": [
    "### Create an array of zeros\n"
   ]
  },
  {
   "cell_type": "code",
   "execution_count": 29,
   "id": "0e2dace4",
   "metadata": {},
   "outputs": [],
   "source": [
    "a=np.zeros((2,3))"
   ]
  },
  {
   "cell_type": "code",
   "execution_count": 30,
   "id": "d1d2697c",
   "metadata": {},
   "outputs": [
    {
     "data": {
      "text/plain": [
       "array([[0., 0., 0.],\n",
       "       [0., 0., 0.]])"
      ]
     },
     "execution_count": 30,
     "metadata": {},
     "output_type": "execute_result"
    }
   ],
   "source": [
    "a"
   ]
  },
  {
   "cell_type": "markdown",
   "id": "8ee170f0",
   "metadata": {},
   "source": [
    "### Create an array of ones"
   ]
  },
  {
   "cell_type": "code",
   "execution_count": 34,
   "id": "eeccf620",
   "metadata": {},
   "outputs": [],
   "source": [
    "b=np.ones((3,4,5),dtype=np.int16)"
   ]
  },
  {
   "cell_type": "code",
   "execution_count": 35,
   "id": "9d273376",
   "metadata": {},
   "outputs": [
    {
     "data": {
      "text/plain": [
       "array([[[1, 1, 1, 1, 1],\n",
       "        [1, 1, 1, 1, 1],\n",
       "        [1, 1, 1, 1, 1],\n",
       "        [1, 1, 1, 1, 1]],\n",
       "\n",
       "       [[1, 1, 1, 1, 1],\n",
       "        [1, 1, 1, 1, 1],\n",
       "        [1, 1, 1, 1, 1],\n",
       "        [1, 1, 1, 1, 1]],\n",
       "\n",
       "       [[1, 1, 1, 1, 1],\n",
       "        [1, 1, 1, 1, 1],\n",
       "        [1, 1, 1, 1, 1],\n",
       "        [1, 1, 1, 1, 1]]], dtype=int16)"
      ]
     },
     "execution_count": 35,
     "metadata": {},
     "output_type": "execute_result"
    }
   ],
   "source": [
    "b"
   ]
  },
  {
   "cell_type": "markdown",
   "id": "5f6a5878",
   "metadata": {},
   "source": [
    "### Create an array of evenly spaced values(number of samples)"
   ]
  },
  {
   "cell_type": "code",
   "execution_count": 42,
   "id": "ed52edbb",
   "metadata": {},
   "outputs": [],
   "source": [
    "c= np.linspace(0,2,9) "
   ]
  },
  {
   "cell_type": "code",
   "execution_count": 43,
   "id": "8f9bba91",
   "metadata": {},
   "outputs": [
    {
     "data": {
      "text/plain": [
       "array([0.  , 0.25, 0.5 , 0.75, 1.  , 1.25, 1.5 , 1.75, 2.  ])"
      ]
     },
     "execution_count": 43,
     "metadata": {},
     "output_type": "execute_result"
    }
   ],
   "source": [
    "c"
   ]
  },
  {
   "cell_type": "markdown",
   "id": "66b97f41",
   "metadata": {},
   "source": [
    "### Create an array of evenly spaced values(step value)"
   ]
  },
  {
   "cell_type": "code",
   "execution_count": 44,
   "id": "47a148a0",
   "metadata": {},
   "outputs": [],
   "source": [
    "d = np.arange(5,50,5)"
   ]
  },
  {
   "cell_type": "code",
   "execution_count": 45,
   "id": "0f5262fa",
   "metadata": {},
   "outputs": [
    {
     "data": {
      "text/plain": [
       "array([ 5, 10, 15, 20, 25, 30, 35, 40, 45])"
      ]
     },
     "execution_count": 45,
     "metadata": {},
     "output_type": "execute_result"
    }
   ],
   "source": [
    "d"
   ]
  },
  {
   "cell_type": "markdown",
   "id": "27298369",
   "metadata": {},
   "source": [
    "### Create a 2X2 identity matrix\n"
   ]
  },
  {
   "cell_type": "code",
   "execution_count": 48,
   "id": "7ac21c6f",
   "metadata": {},
   "outputs": [],
   "source": [
    "e= np.eye(3)"
   ]
  },
  {
   "cell_type": "code",
   "execution_count": 49,
   "id": "dfa23c82",
   "metadata": {},
   "outputs": [
    {
     "data": {
      "text/plain": [
       "array([[1., 0., 0.],\n",
       "       [0., 1., 0.],\n",
       "       [0., 0., 1.]])"
      ]
     },
     "execution_count": 49,
     "metadata": {},
     "output_type": "execute_result"
    }
   ],
   "source": [
    "e"
   ]
  },
  {
   "cell_type": "markdown",
   "id": "c73430b8",
   "metadata": {},
   "source": [
    "### Create an array with random values\n"
   ]
  },
  {
   "cell_type": "code",
   "execution_count": 50,
   "id": "ed6bec6d",
   "metadata": {},
   "outputs": [
    {
     "data": {
      "text/plain": [
       "array([[0.76653104, 0.98063132, 0.13893825],\n",
       "       [0.35627429, 0.47993168, 0.77039466],\n",
       "       [0.10118779, 0.37594631, 0.90126662]])"
      ]
     },
     "execution_count": 50,
     "metadata": {},
     "output_type": "execute_result"
    }
   ],
   "source": [
    " np.random.random((3,3)) "
   ]
  },
  {
   "cell_type": "markdown",
   "id": "edb28423",
   "metadata": {},
   "source": [
    "### Create an empty array"
   ]
  },
  {
   "cell_type": "code",
   "execution_count": 51,
   "id": "dc04e251",
   "metadata": {},
   "outputs": [
    {
     "data": {
      "text/plain": [
       "array([[0., 0., 0., 0.],\n",
       "       [0., 0., 0., 0.],\n",
       "       [0., 0., 0., 0.]])"
      ]
     },
     "execution_count": 51,
     "metadata": {},
     "output_type": "execute_result"
    }
   ],
   "source": [
    " np.empty((3,4))"
   ]
  },
  {
   "cell_type": "code",
   "execution_count": null,
   "id": "c8869522",
   "metadata": {},
   "outputs": [],
   "source": []
  }
 ],
 "metadata": {
  "kernelspec": {
   "display_name": "Python 3 (ipykernel)",
   "language": "python",
   "name": "python3"
  },
  "language_info": {
   "codemirror_mode": {
    "name": "ipython",
    "version": 3
   },
   "file_extension": ".py",
   "mimetype": "text/x-python",
   "name": "python",
   "nbconvert_exporter": "python",
   "pygments_lexer": "ipython3",
   "version": "3.9.7"
  }
 },
 "nbformat": 4,
 "nbformat_minor": 5
}
